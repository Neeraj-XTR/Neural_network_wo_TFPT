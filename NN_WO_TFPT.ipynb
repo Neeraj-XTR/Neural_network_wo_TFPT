{
 "cells": [
  {
   "cell_type": "markdown",
   "id": "73f0cb3b",
   "metadata": {},
   "source": [
    "# Creating a NN without using TF/PT for the understanding of its working"
   ]
  },
  {
   "cell_type": "code",
   "execution_count": 10,
   "id": "bebf87ae",
   "metadata": {},
   "outputs": [],
   "source": [
    "import pandas as pd\n",
    "import numpy as np\n",
    "import matplotlib.pyplot as plt\n",
    "data = pd.read_csv(\"train.csv\")\n"
   ]
  },
  {
   "cell_type": "code",
   "execution_count": 5,
   "id": "9d246d14",
   "metadata": {},
   "outputs": [
    {
     "data": {
      "text/plain": [
       "array([6, 1, 5, ..., 4, 7, 9], dtype=int64)"
      ]
     },
     "execution_count": 5,
     "metadata": {},
     "output_type": "execute_result"
    }
   ],
   "source": [
    "data = np.array(data)\n",
    "m, n = data.shape\n",
    "np.random.shuffle(data) # shuffle before splitting into dev and training sets\n",
    "\n",
    "data_dev = data[0:1000].T\n",
    "Y_dev = data_dev[0]\n",
    "X_dev = data_dev[1:n]\n",
    "X_dev = X_dev / 255.\n",
    "\n",
    "data_train = data[1000:m].T\n",
    "Y_train = data_train[0]\n",
    "X_train = data_train[1:n]\n",
    "X_train = X_train / 255.\n",
    "_,m_train = X_train.shape\n",
    "\n",
    "Y_train\n"
   ]
  },
  {
   "cell_type": "markdown",
   "id": "0beb919a",
   "metadata": {},
   "source": [
    "### when working with the MNIST dataset, each 28x28 pixel grayscale image is flattened to a vector of 784 values (from index 0 to 783) as the input layer, with each value representing one pixel"
   ]
  },
  {
   "cell_type": "markdown",
   "id": "5dc9a925",
   "metadata": {},
   "source": [
    "## Forward and backward propagation\n",
    "1) Forward prop: defining the first time execution of the layers\n",
    "2) Backward prop: Repeating to run it over and over again"
   ]
  },
  {
   "cell_type": "code",
   "execution_count": 6,
   "id": "6ee227e3",
   "metadata": {},
   "outputs": [
    {
     "name": "stdout",
     "output_type": "stream",
     "text": [
      "Iteration:  0\n",
      "[2 4 7 ... 2 4 4] [6 1 5 ... 4 7 9]\n",
      "0.10495121951219512\n",
      "Iteration:  10\n",
      "[0 3 7 ... 5 3 1] [6 1 5 ... 4 7 9]\n",
      "0.2137560975609756\n",
      "Iteration:  20\n",
      "[0 1 7 ... 5 7 1] [6 1 5 ... 4 7 9]\n",
      "0.3102682926829268\n",
      "Iteration:  30\n",
      "[6 1 7 ... 5 7 1] [6 1 5 ... 4 7 9]\n",
      "0.3858780487804878\n",
      "Iteration:  40\n",
      "[6 1 7 ... 0 7 1] [6 1 5 ... 4 7 9]\n",
      "0.4438780487804878\n",
      "Iteration:  50\n",
      "[6 1 8 ... 0 7 4] [6 1 5 ... 4 7 9]\n",
      "0.4872439024390244\n",
      "Iteration:  60\n",
      "[6 1 8 ... 8 7 4] [6 1 5 ... 4 7 9]\n",
      "0.5300243902439025\n",
      "Iteration:  70\n",
      "[6 1 0 ... 8 7 9] [6 1 5 ... 4 7 9]\n",
      "0.5684390243902439\n",
      "Iteration:  80\n",
      "[6 1 0 ... 8 7 9] [6 1 5 ... 4 7 9]\n",
      "0.5994634146341463\n",
      "Iteration:  90\n",
      "[6 1 0 ... 9 9 9] [6 1 5 ... 4 7 9]\n",
      "0.6244878048780488\n",
      "Iteration:  100\n",
      "[6 1 0 ... 9 9 9] [6 1 5 ... 4 7 9]\n",
      "0.6464878048780488\n",
      "Iteration:  110\n",
      "[6 1 0 ... 9 9 9] [6 1 5 ... 4 7 9]\n",
      "0.6639024390243903\n",
      "Iteration:  120\n",
      "[6 1 0 ... 9 9 9] [6 1 5 ... 4 7 9]\n",
      "0.6803414634146342\n",
      "Iteration:  130\n",
      "[6 1 0 ... 9 9 9] [6 1 5 ... 4 7 9]\n",
      "0.6956097560975609\n",
      "Iteration:  140\n",
      "[6 1 0 ... 9 9 9] [6 1 5 ... 4 7 9]\n",
      "0.7085365853658536\n",
      "Iteration:  150\n",
      "[6 1 0 ... 4 9 9] [6 1 5 ... 4 7 9]\n",
      "0.7185853658536585\n",
      "Iteration:  160\n",
      "[6 1 5 ... 4 9 9] [6 1 5 ... 4 7 9]\n",
      "0.7284634146341463\n",
      "Iteration:  170\n",
      "[6 1 5 ... 4 9 9] [6 1 5 ... 4 7 9]\n",
      "0.7368536585365854\n",
      "Iteration:  180\n",
      "[6 1 5 ... 4 9 9] [6 1 5 ... 4 7 9]\n",
      "0.7440731707317073\n",
      "Iteration:  190\n",
      "[6 1 5 ... 4 9 9] [6 1 5 ... 4 7 9]\n",
      "0.7515609756097561\n",
      "Iteration:  200\n",
      "[6 1 5 ... 4 9 9] [6 1 5 ... 4 7 9]\n",
      "0.758609756097561\n",
      "Iteration:  210\n",
      "[6 1 5 ... 4 7 9] [6 1 5 ... 4 7 9]\n",
      "0.7646585365853659\n",
      "Iteration:  220\n",
      "[6 1 5 ... 4 7 9] [6 1 5 ... 4 7 9]\n",
      "0.7701463414634147\n",
      "Iteration:  230\n",
      "[6 1 5 ... 4 7 9] [6 1 5 ... 4 7 9]\n",
      "0.775\n",
      "Iteration:  240\n",
      "[6 1 5 ... 4 7 9] [6 1 5 ... 4 7 9]\n",
      "0.7794634146341464\n",
      "Iteration:  250\n",
      "[6 1 5 ... 4 7 9] [6 1 5 ... 4 7 9]\n",
      "0.7844390243902439\n",
      "Iteration:  260\n",
      "[6 1 5 ... 4 7 9] [6 1 5 ... 4 7 9]\n",
      "0.7882682926829269\n",
      "Iteration:  270\n",
      "[6 1 5 ... 4 7 9] [6 1 5 ... 4 7 9]\n",
      "0.7921707317073171\n",
      "Iteration:  280\n",
      "[6 1 5 ... 4 7 9] [6 1 5 ... 4 7 9]\n",
      "0.7964146341463415\n",
      "Iteration:  290\n",
      "[6 1 5 ... 4 7 9] [6 1 5 ... 4 7 9]\n",
      "0.7992926829268293\n",
      "Iteration:  300\n",
      "[6 1 5 ... 4 7 9] [6 1 5 ... 4 7 9]\n",
      "0.8021951219512196\n",
      "Iteration:  310\n",
      "[6 1 5 ... 4 7 9] [6 1 5 ... 4 7 9]\n",
      "0.8055609756097561\n",
      "Iteration:  320\n",
      "[6 1 5 ... 4 7 9] [6 1 5 ... 4 7 9]\n",
      "0.8083658536585366\n",
      "Iteration:  330\n",
      "[6 1 5 ... 4 7 9] [6 1 5 ... 4 7 9]\n",
      "0.8113902439024391\n",
      "Iteration:  340\n",
      "[6 1 5 ... 4 7 9] [6 1 5 ... 4 7 9]\n",
      "0.8136097560975609\n",
      "Iteration:  350\n",
      "[6 1 5 ... 4 7 9] [6 1 5 ... 4 7 9]\n",
      "0.8160731707317073\n",
      "Iteration:  360\n",
      "[6 1 5 ... 4 7 9] [6 1 5 ... 4 7 9]\n",
      "0.8182682926829268\n",
      "Iteration:  370\n",
      "[6 1 5 ... 4 7 9] [6 1 5 ... 4 7 9]\n",
      "0.8203414634146341\n",
      "Iteration:  380\n",
      "[6 1 5 ... 4 7 9] [6 1 5 ... 4 7 9]\n",
      "0.8225121951219512\n",
      "Iteration:  390\n",
      "[6 1 5 ... 4 7 9] [6 1 5 ... 4 7 9]\n",
      "0.8247560975609756\n",
      "Iteration:  400\n",
      "[6 1 5 ... 4 7 9] [6 1 5 ... 4 7 9]\n",
      "0.8268292682926829\n",
      "Iteration:  410\n",
      "[6 1 5 ... 4 7 9] [6 1 5 ... 4 7 9]\n",
      "0.8285365853658536\n",
      "Iteration:  420\n",
      "[6 1 5 ... 4 7 9] [6 1 5 ... 4 7 9]\n",
      "0.8304634146341463\n",
      "Iteration:  430\n",
      "[6 1 5 ... 4 7 9] [6 1 5 ... 4 7 9]\n",
      "0.8322682926829268\n",
      "Iteration:  440\n",
      "[6 1 5 ... 4 7 9] [6 1 5 ... 4 7 9]\n",
      "0.834\n",
      "Iteration:  450\n",
      "[6 1 5 ... 4 7 9] [6 1 5 ... 4 7 9]\n",
      "0.8355121951219512\n",
      "Iteration:  460\n",
      "[6 1 5 ... 4 7 9] [6 1 5 ... 4 7 9]\n",
      "0.837170731707317\n",
      "Iteration:  470\n",
      "[6 1 5 ... 4 7 9] [6 1 5 ... 4 7 9]\n",
      "0.8386585365853658\n",
      "Iteration:  480\n",
      "[6 1 5 ... 4 7 9] [6 1 5 ... 4 7 9]\n",
      "0.8398780487804878\n",
      "Iteration:  490\n",
      "[6 1 5 ... 4 7 9] [6 1 5 ... 4 7 9]\n",
      "0.8409512195121951\n"
     ]
    }
   ],
   "source": [
    "def init_params():\n",
    "    W1 = np.random.rand(10, 784) - 0.5\n",
    "    b1 = np.random.rand(10, 1) - 0.5\n",
    "    W2 = np.random.rand(10, 10) - 0.5\n",
    "    b2 = np.random.rand(10, 1) - 0.5\n",
    "    return W1, b1, W2, b2\n",
    "\n",
    "\n",
    "# Here W is the weight and b is the bias\n",
    "def ReLU(Z):\n",
    "    return np.maximum(Z, 0)\n",
    "\n",
    "# Here A acts as our input layer of the neural network (the first layer from 0 to 784 (28*28))\n",
    "def softmax(Z):\n",
    "    A = np.exp(Z) / sum(np.exp(Z))\n",
    "    return A\n",
    "\n",
    "\n",
    "# if a function is not applied then the second layer is the liner combination of the first layer and the first layer is the\n",
    "# liner combination of the input layer.\n",
    "def forward_prop(W1, b1, W2, b2, X):\n",
    "# Here Z1 is the unactivated first layer of the neural network (the intermediate layer from 0 to 10)\n",
    "    Z1 = W1.dot(X) + b1\n",
    "    A1 = ReLU(Z1) # Rectified linear unit, changes the linearlity to tangent and sine\n",
    "# Here Z2 is the unactivated second layer\n",
    "    Z2 = W2.dot(A1) + b2\n",
    "    A2 = softmax(Z2) # softmax activation function gives us the probability of a digit\n",
    "    return Z1, A1, Z2, A2\n",
    "\n",
    "def ReLU_deriv(Z):\n",
    "    return Z > 0\n",
    "\n",
    "def one_hot(Y):\n",
    "    one_hot_Y = np.zeros((Y.size, Y.max() + 1))\n",
    "    one_hot_Y[np.arange(Y.size), Y] = 1\n",
    "    one_hot_Y = one_hot_Y.T\n",
    "    return one_hot_Y\n",
    "\n",
    "def backward_prop(Z1, A1, Z2, A2, W1, W2, X, Y):\n",
    "    one_hot_Y = one_hot(Y)\n",
    "# dz2 is the representation of the error produced by the second layer\n",
    "    dZ2 = A2 - one_hot_Y\n",
    "    dW2 = 1 / m * dZ2.dot(A1.T)\n",
    "    db2 = 1 / m * np.sum(dZ2)\n",
    "# db2 is the average of the error\n",
    "# repeating for the first layer\n",
    "    dZ1 = W2.T.dot(dZ2) * ReLU_deriv(Z1)\n",
    "    dW1 = 1 / m * dZ1.dot(X.T)\n",
    "    db1 = 1 / m * np.sum(dZ1)\n",
    "    return dW1, db1, dW2, db2\n",
    "\n",
    "def update_params(W1, b1, W2, b2, dW1, db1, dW2, db2, alpha):\n",
    "# after finding out how much each error contributes\n",
    "    W1 = W1 - alpha * dW1\n",
    "    b1 = b1 - alpha * db1    \n",
    "    W2 = W2 - alpha * dW2  \n",
    "    b2 = b2 - alpha * db2    \n",
    "    return W1, b1, W2, b2\n",
    "\n",
    "def get_predictions(A2):\n",
    "    return np.argmax(A2, 0)\n",
    "\n",
    "def get_accuracy(predictions, Y):\n",
    "    print(predictions, Y)\n",
    "    return np.sum(predictions == Y) / Y.size\n",
    "\n",
    "def gradient_descent(X, Y, alpha, iterations):\n",
    "    W1, b1, W2, b2 = init_params()\n",
    "    for i in range(iterations):\n",
    "        Z1, A1, Z2, A2 = forward_prop(W1, b1, W2, b2, X)\n",
    "        dW1, db1, dW2, db2 = backward_prop(Z1, A1, Z2, A2, W1, W2, X, Y)\n",
    "        W1, b1, W2, b2 = update_params(W1, b1, W2, b2, dW1, db1, dW2, db2, alpha)\n",
    "        if i % 10 == 0:\n",
    "            print(\"Iteration: \", i)\n",
    "            predictions = get_predictions(A2)\n",
    "            print(get_accuracy(predictions, Y))\n",
    "    return W1, b1, W2, b2\n",
    "\n",
    "W1, b1, W2, b2 = gradient_descent(X_train, Y_train, 0.10, 500)"
   ]
  },
  {
   "cell_type": "markdown",
   "id": "2f5770cc",
   "metadata": {},
   "source": [
    "### 85% accuracy on the training set"
   ]
  },
  {
   "cell_type": "code",
   "execution_count": 8,
   "id": "de9b0fc3",
   "metadata": {},
   "outputs": [],
   "source": [
    "def make_predictions(X, W1, b1, W2, b2):\n",
    "    _, _, _, A2 = forward_prop(W1, b1, W2, b2, X)\n",
    "    predictions = get_predictions(A2)\n",
    "    return predictions\n",
    "\n",
    "def test_prediction(index, W1, b1, W2, b2):\n",
    "    current_image = X_train[:, index, None]\n",
    "    prediction = make_predictions(X_train[:, index, None], W1, b1, W2, b2)\n",
    "    label = Y_train[index]\n",
    "    print(\"Prediction: \", prediction)\n",
    "    print(\"Label: \", label)\n",
    "    \n",
    "    current_image = current_image.reshape((28, 28)) * 255\n",
    "    plt.gray()\n",
    "    plt.imshow(current_image, interpolation='nearest')\n",
    "    plt.show()"
   ]
  },
  {
   "cell_type": "markdown",
   "id": "4c551b3e",
   "metadata": {},
   "source": [
    "## Testing the neural network"
   ]
  },
  {
   "cell_type": "code",
   "execution_count": 11,
   "id": "b49a86a3",
   "metadata": {},
   "outputs": [
    {
     "name": "stdout",
     "output_type": "stream",
     "text": [
      "Prediction:  [6]\n",
      "Label:  6\n"
     ]
    },
    {
     "data": {
      "image/png": "[encoded data removed]",
      "text/plain": [
       "<Figure size 640x480 with 1 Axes>"
      ]
     },
     "metadata": {},
     "output_type": "display_data"
    },
    {
     "name": "stdout",
     "output_type": "stream",
     "text": [
      "Prediction:  [1]\n",
      "Label:  1\n"
     ]
    },
    {
     "data": {
      "image/png": "[encoded data removed]",
      "text/plain": [
       "<Figure size 640x480 with 1 Axes>"
      ]
     },
     "metadata": {},
     "output_type": "display_data"
    },
    {
     "name": "stdout",
     "output_type": "stream",
     "text": [
      "Prediction:  [5]\n",
      "Label:  5\n"
     ]
    },
    {
     "data": {
      "image/png": "[encoded data removed]",
      "text/plain": [
       "<Figure size 640x480 with 1 Axes>"
      ]
     },
     "metadata": {},
     "output_type": "display_data"
    },
    {
     "name": "stdout",
     "output_type": "stream",
     "text": [
      "Prediction:  [6]\n",
      "Label:  6\n"
     ]
    },
    {
     "data": {
      "image/png": "[encoded data removed]",
      "text/plain": [
       "<Figure size 640x480 with 1 Axes>"
      ]
     },
     "metadata": {},
     "output_type": "display_data"
    }
   ],
   "source": [
    "test_prediction(0, W1, b1, W2, b2)\n",
    "test_prediction(1, W1, b1, W2, b2)\n",
    "test_prediction(2, W1, b1, W2, b2)\n",
    "test_prediction(3, W1, b1, W2, b2)"
   ]
  },
  {
   "cell_type": "code",
   "execution_count": null,
   "id": "03dd7a54",
   "metadata": {},
   "outputs": [],
   "source": []
  }
 ],
 "metadata": {
  "kernelspec": {
   "display_name": "GPU",
   "language": "python",
   "name": "gpu"
  },
  "language_info": {
   "codemirror_mode": {
    "name": "ipython",
    "version": 3
   },
   "file_extension": ".py",
   "mimetype": "text/x-python",
   "name": "python",
   "nbconvert_exporter": "python",
   "pygments_lexer": "ipython3",
   "version": "3.9.16"
  }
 },
 "nbformat": 4,
 "nbformat_minor": 5
}
